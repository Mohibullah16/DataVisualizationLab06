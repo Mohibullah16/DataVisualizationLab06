{
 "cells": [
  {
   "cell_type": "code",
   "execution_count": 8,
   "metadata": {},
   "outputs": [
    {
     "name": "stdout",
     "output_type": "stream",
     "text": [
      "    Order ID Customer ID Platform Order Date & Time  Delivery Time (Minutes)  \\\n",
      "0  ORD000001    CUST2824  JioMart           19:29.5                       30   \n",
      "1  ORD000002    CUST1409  Blinkit           54:29.5                       16   \n",
      "2  ORD000003    CUST5506  JioMart           21:29.5                       25   \n",
      "3  ORD000004    CUST5012  JioMart           19:29.5                       42   \n",
      "4  ORD000005    CUST4657  Blinkit           49:29.5                       30   \n",
      "\n",
      "      Product Category  Order Value (INR)              Customer Feedback  \\\n",
      "0  Fruits & Vegetables                382  Fast delivery, great service!   \n",
      "1                Dairy                279            Quick and reliable!   \n",
      "2            Beverages                599      Items missing from order.   \n",
      "3            Beverages                946      Items missing from order.   \n",
      "4            Beverages                334  Fast delivery, great service!   \n",
      "\n",
      "   Service Rating Delivery Delay Refund Requested  \n",
      "0               5             No               No  \n",
      "1               5             No               No  \n",
      "2               2             No              Yes  \n",
      "3               2            Yes              Yes  \n",
      "4               5             No               No  \n"
     ]
    }
   ],
   "source": [
    "import pandas as pd\n",
    "import seaborn as sns\n",
    "\n",
    "\n",
    "csv_path = \"Ecommerce_Delivery_Analytics_New.csv\"\n",
    "\n",
    "df = pd.read_csv(csv_path)\n",
    "\n",
    "# Display the first few rows of the DataFrame\n",
    "print(df.head())"
   ]
  },
  {
   "cell_type": "code",
   "execution_count": null,
   "metadata": {},
   "outputs": [],
   "source": []
  }
 ],
 "metadata": {
  "kernelspec": {
   "display_name": "Python 3",
   "language": "python",
   "name": "python3"
  },
  "language_info": {
   "codemirror_mode": {
    "name": "ipython",
    "version": 3
   },
   "file_extension": ".py",
   "mimetype": "text/x-python",
   "name": "python",
   "nbconvert_exporter": "python",
   "pygments_lexer": "ipython3",
   "version": "3.12.4"
  }
 },
 "nbformat": 4,
 "nbformat_minor": 2
}
